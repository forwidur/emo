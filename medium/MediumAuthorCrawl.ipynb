{
 "cells": [
  {
   "cell_type": "code",
   "execution_count": null,
   "metadata": {},
   "outputs": [],
   "source": [
    "import requests\n",
    "import xml.etree.ElementTree as ET\n",
    "from bs4 import BeautifulSoup\n",
    "from bs4 import NavigableString\n",
    "from bs4 import Comment\n",
    "import sys\n",
    "from urllib.parse import urlparse\n",
    "import random\n",
    "import time"
   ]
  },
  {
   "cell_type": "code",
   "execution_count": null,
   "metadata": {},
   "outputs": [],
   "source": [
    "#all_users = []"
   ]
  },
  {
   "cell_type": "code",
   "execution_count": null,
   "metadata": {},
   "outputs": [],
   "source": [
    "medium_users = set()"
   ]
  },
  {
   "cell_type": "code",
   "execution_count": null,
   "metadata": {},
   "outputs": [],
   "source": [
    "headers = {\n",
    "    'User-Agent': 'Mozilla/5.0 (Macintosh; Intel Mac OS X 10_13_6) AppleWebKit/537.36 (KHTML, like Gecko) Chrome/68.0.3440.106 Safari/537.36'\n",
    "}\n",
    "\n",
    "sitemap = 'https://medium.com/sitemap/posts/2018/posts-2018-09-25.xml'\n",
    "\n",
    "response = requests.get(sitemap, headers=headers)\n",
    "root = ET.fromstring(response.content)"
   ]
  },
  {
   "cell_type": "code",
   "execution_count": null,
   "metadata": {},
   "outputs": [],
   "source": [
    "for child in root:\n",
    "    for grandchild in child:\n",
    "        if grandchild.tag == '{http://www.sitemaps.org/schemas/sitemap/0.9}loc':\n",
    "            url_parts = urlparse(grandchild.text)\n",
    "            path_parts = url_parts.path.split('/')\n",
    "            if len(path_parts) >= 2:\n",
    "                if path_parts[1][0] == '@':\n",
    "                    medium_users.add(path_parts[1])"
   ]
  },
  {
   "cell_type": "code",
   "execution_count": null,
   "metadata": {},
   "outputs": [],
   "source": [
    "len(medium_users)"
   ]
  },
  {
   "cell_type": "code",
   "execution_count": null,
   "metadata": {},
   "outputs": [],
   "source": [
    "def add_user_info(username):\n",
    "    user = {}\n",
    "    user['username'] = username\n",
    "\n",
    "    response = requests.get('https://medium.com/' + username, headers)\n",
    "    #response = requests.get('https://medium.com/@Wilkner', headers)\n",
    "    soup = BeautifulSoup(response.content, 'html.parser')\n",
    "    user['name'] = soup.h1.contents\n",
    "\n",
    "    possible_description = soup.h1.parent.next_sibling.find('p')\n",
    "    if possible_description is not None:\n",
    "        user['description'] = possible_description.contents\n",
    "\n",
    "    links_container = soup.h1.parent.next_sibling.next_sibling.next_sibling\n",
    "    if links_container is not None:\n",
    "        links = links_container.find_all('a')\n",
    "\n",
    "        if links is not None:\n",
    "            for link_num, link in enumerate(links):\n",
    "                number = False\n",
    "                if link_num == 0 or link_num == 1:\n",
    "                    for i, aspect in enumerate(link):\n",
    "                        if i == 0:\n",
    "                            number = str(aspect)\n",
    "                        if i == 2:\n",
    "                            if 'Following' in aspect:\n",
    "                                user['following'] = number\n",
    "                            if 'Followers' in aspect:\n",
    "                                user['followers'] = number\n",
    "                if link_num == 2:\n",
    "                    user['external_link'] = link['href']\n",
    "    all_users.append(user)\n",
    "    sleep(5)\n",
    "    return"
   ]
  },
  {
   "cell_type": "code",
   "execution_count": null,
   "metadata": {},
   "outputs": [],
   "source": [
    "#for i, username in enumerate(random.sample(medium_users, 10)):\n",
    "for i, username in enumerate(medium_users):\n",
    "    try:\n",
    "        found = False\n",
    "        \n",
    "        for existing_user in all_users:\n",
    "            if existing_user['username'] == username:\n",
    "                found = True\n",
    "        \n",
    "        if found == False:\n",
    "            print(len(all_users))\n",
    "            add_user_info(username)\n",
    "    except:\n",
    "        pass"
   ]
  },
  {
   "cell_type": "code",
   "execution_count": 25,
   "metadata": {},
   "outputs": [
    {
     "data": {
      "text/plain": [
       "[{'username': '@aleksandrstepanovx',\n",
       "  'name': ['Aleksandr Stepanov'],\n",
       "  'description': [],\n",
       "  'following': '5'},\n",
       " {'username': '@romaneuuushilov',\n",
       "  'name': ['Знойный чпок'],\n",
       "  'description': [],\n",
       "  'following': '1'},\n",
       " {'username': '@lizabkt',\n",
       "  'name': ['Lisa B.'],\n",
       "  'description': [],\n",
       "  'following': '3',\n",
       "  'followers': '2'},\n",
       " {'username': '@craig_10243',\n",
       "  'name': ['Craig Wright'],\n",
       "  'description': ['My opinions are my own. Eternal student & researcher; plugging Bitcoin from as long as it was lawyer, banker, economist, coder, investor, mathematician, & stats'],\n",
       "  'following': '2',\n",
       "  'followers': '513'},\n",
       " {'username': '@netkoin',\n",
       "  'name': ['Netkoin'],\n",
       "  'description': ['Reinventing the retail business and customer relationship.'],\n",
       "  'followers': '1.2K'},\n",
       " {'username': '@aurora_8light',\n",
       "  'name': ['Maria Lotsman'],\n",
       "  'description': [],\n",
       "  'following': '95',\n",
       "  'followers': '62'},\n",
       " {'username': '@5thFear',\n",
       "  'name': ['The Crypto Guy'],\n",
       "  'description': [],\n",
       "  'following': '24',\n",
       "  'followers': '2',\n",
       "  'external_link': 'https://twitter.com/5thFear?source=user_profile---------------------------'},\n",
       " {'username': '@plpeaksterman67',\n",
       "  'name': ['Mr Petester z'],\n",
       "  'description': [],\n",
       "  'following': '65',\n",
       "  'followers': '41'},\n",
       " {'username': '@dan.sandberg',\n",
       "  'name': ['Dan Sandberg'],\n",
       "  'description': [],\n",
       "  'following': '1'},\n",
       " {'username': '@jeffhale',\n",
       "  'name': ['Jeff Hale'],\n",
       "  'description': ['Into Data Science and Machine Learning'],\n",
       "  'following': '157',\n",
       "  'followers': '256'}]"
      ]
     },
     "execution_count": 25,
     "metadata": {},
     "output_type": "execute_result"
    }
   ],
   "source": [
    "all_users"
   ]
  },
  {
   "cell_type": "code",
   "execution_count": 67,
   "metadata": {},
   "outputs": [
    {
     "ename": "ValueError",
     "evalue": "dict contains fields not in fieldnames: 'followers'",
     "output_type": "error",
     "traceback": [
      "\u001b[0;31m---------------------------------------------------------------------------\u001b[0m",
      "\u001b[0;31mValueError\u001b[0m                                Traceback (most recent call last)",
      "\u001b[0;32m<ipython-input-67-78667068d276>\u001b[0m in \u001b[0;36m<module>\u001b[0;34m()\u001b[0m\n\u001b[1;32m      5\u001b[0m     \u001b[0mdict_writer\u001b[0m \u001b[0;34m=\u001b[0m \u001b[0mcsv\u001b[0m\u001b[0;34m.\u001b[0m\u001b[0mDictWriter\u001b[0m\u001b[0;34m(\u001b[0m\u001b[0moutput_file\u001b[0m\u001b[0;34m,\u001b[0m \u001b[0mkeys\u001b[0m\u001b[0;34m)\u001b[0m\u001b[0;34m\u001b[0m\u001b[0m\n\u001b[1;32m      6\u001b[0m     \u001b[0mdict_writer\u001b[0m\u001b[0;34m.\u001b[0m\u001b[0mwriteheader\u001b[0m\u001b[0;34m(\u001b[0m\u001b[0;34m)\u001b[0m\u001b[0;34m\u001b[0m\u001b[0m\n\u001b[0;32m----> 7\u001b[0;31m     \u001b[0mdict_writer\u001b[0m\u001b[0;34m.\u001b[0m\u001b[0mwriterows\u001b[0m\u001b[0;34m(\u001b[0m\u001b[0mall_users\u001b[0m\u001b[0;34m)\u001b[0m\u001b[0;34m\u001b[0m\u001b[0m\n\u001b[0m",
      "\u001b[0;32m/usr/local/Cellar/python/3.7.0/Frameworks/Python.framework/Versions/3.7/lib/python3.7/csv.py\u001b[0m in \u001b[0;36mwriterows\u001b[0;34m(self, rowdicts)\u001b[0m\n\u001b[1;32m    156\u001b[0m \u001b[0;34m\u001b[0m\u001b[0m\n\u001b[1;32m    157\u001b[0m     \u001b[0;32mdef\u001b[0m \u001b[0mwriterows\u001b[0m\u001b[0;34m(\u001b[0m\u001b[0mself\u001b[0m\u001b[0;34m,\u001b[0m \u001b[0mrowdicts\u001b[0m\u001b[0;34m)\u001b[0m\u001b[0;34m:\u001b[0m\u001b[0;34m\u001b[0m\u001b[0m\n\u001b[0;32m--> 158\u001b[0;31m         \u001b[0;32mreturn\u001b[0m \u001b[0mself\u001b[0m\u001b[0;34m.\u001b[0m\u001b[0mwriter\u001b[0m\u001b[0;34m.\u001b[0m\u001b[0mwriterows\u001b[0m\u001b[0;34m(\u001b[0m\u001b[0mmap\u001b[0m\u001b[0;34m(\u001b[0m\u001b[0mself\u001b[0m\u001b[0;34m.\u001b[0m\u001b[0m_dict_to_list\u001b[0m\u001b[0;34m,\u001b[0m \u001b[0mrowdicts\u001b[0m\u001b[0;34m)\u001b[0m\u001b[0;34m)\u001b[0m\u001b[0;34m\u001b[0m\u001b[0m\n\u001b[0m\u001b[1;32m    159\u001b[0m \u001b[0;34m\u001b[0m\u001b[0m\n\u001b[1;32m    160\u001b[0m \u001b[0;31m# Guard Sniffer's type checking against builds that exclude complex()\u001b[0m\u001b[0;34m\u001b[0m\u001b[0;34m\u001b[0m\u001b[0m\n",
      "\u001b[0;32m/usr/local/Cellar/python/3.7.0/Frameworks/Python.framework/Versions/3.7/lib/python3.7/csv.py\u001b[0m in \u001b[0;36m_dict_to_list\u001b[0;34m(self, rowdict)\u001b[0m\n\u001b[1;32m    149\u001b[0m             \u001b[0;32mif\u001b[0m \u001b[0mwrong_fields\u001b[0m\u001b[0;34m:\u001b[0m\u001b[0;34m\u001b[0m\u001b[0m\n\u001b[1;32m    150\u001b[0m                 raise ValueError(\"dict contains fields not in fieldnames: \"\n\u001b[0;32m--> 151\u001b[0;31m                                  + \", \".join([repr(x) for x in wrong_fields]))\n\u001b[0m\u001b[1;32m    152\u001b[0m         \u001b[0;32mreturn\u001b[0m \u001b[0;34m(\u001b[0m\u001b[0mrowdict\u001b[0m\u001b[0;34m.\u001b[0m\u001b[0mget\u001b[0m\u001b[0;34m(\u001b[0m\u001b[0mkey\u001b[0m\u001b[0;34m,\u001b[0m \u001b[0mself\u001b[0m\u001b[0;34m.\u001b[0m\u001b[0mrestval\u001b[0m\u001b[0;34m)\u001b[0m \u001b[0;32mfor\u001b[0m \u001b[0mkey\u001b[0m \u001b[0;32min\u001b[0m \u001b[0mself\u001b[0m\u001b[0;34m.\u001b[0m\u001b[0mfieldnames\u001b[0m\u001b[0;34m)\u001b[0m\u001b[0;34m\u001b[0m\u001b[0m\n\u001b[1;32m    153\u001b[0m \u001b[0;34m\u001b[0m\u001b[0m\n",
      "\u001b[0;31mValueError\u001b[0m: dict contains fields not in fieldnames: 'followers'"
     ]
    }
   ],
   "source": [
    "import csv\n",
    "\n",
    "keys = all_users[0].keys()\n",
    "with open('mediumprofilesx.csv', 'w') as output_file:\n",
    "    dict_writer = csv.DictWriter(output_file, keys)\n",
    "    dict_writer.writeheader()\n",
    "    dict_writer.writerows(all_users)\n"
   ]
  },
  {
   "cell_type": "code",
   "execution_count": 61,
   "metadata": {},
   "outputs": [
    {
     "data": {
      "text/plain": [
       "11412"
      ]
     },
     "execution_count": 61,
     "metadata": {},
     "output_type": "execute_result"
    }
   ],
   "source": [
    "len(all_users)"
   ]
  },
  {
   "cell_type": "code",
   "execution_count": null,
   "metadata": {},
   "outputs": [],
   "source": []
  }
 ],
 "metadata": {
  "kernelspec": {
   "display_name": "Python 3",
   "language": "python",
   "name": "python3"
  },
  "language_info": {
   "codemirror_mode": {
    "name": "ipython",
    "version": 3
   },
   "file_extension": ".py",
   "mimetype": "text/x-python",
   "name": "python",
   "nbconvert_exporter": "python",
   "pygments_lexer": "ipython3",
   "version": "3.7.0"
  }
 },
 "nbformat": 4,
 "nbformat_minor": 2
}
